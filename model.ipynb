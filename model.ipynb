{
 "cells": [
  {
   "cell_type": "code",
   "execution_count": null,
   "metadata": {
    "colab": {
     "base_uri": "https://localhost:8080/",
     "height": 151
    },
    "colab_type": "code",
    "executionInfo": {
     "elapsed": 5266,
     "status": "ok",
     "timestamp": 1598363122355,
     "user": {
      "displayName": "Yassine AIT ALI YAHIA",
      "photoUrl": "",
      "userId": "17068135540218931681"
     },
     "user_tz": -120
    },
    "id": "OBLlnat8-YJw",
    "outputId": "acba245e-24ab-4b4f-b7f7-e04ad4e95d3d"
   },
   "outputs": [],
   "source": [
    "! pip install python-chess==0.28.3\n",
    "\n",
    "from __future__ import absolute_import, division, print_function, unicode_literals\n",
    "\n",
    "try:\n",
    "  # %tensorflow_version only exists in Colab.\n",
    "  %tensorflow_version 2.x\n",
    "except Exception:\n",
    "    pass\n",
    "  \n",
    "import tensorflow as tf\n",
    "\n",
    "import h5py\n",
    "import numpy as np\n",
    "import os\n",
    "import chess\n",
    "import chess.pgn\n",
    "from matplotlib import pyplot as plt\n",
    "import json"
   ]
  },
  {
   "cell_type": "code",
   "execution_count": null,
   "metadata": {
    "colab": {
     "base_uri": "https://localhost:8080/",
     "height": 121
    },
    "colab_type": "code",
    "executionInfo": {
     "elapsed": 28179,
     "status": "ok",
     "timestamp": 1598363156316,
     "user": {
      "displayName": "Yassine AIT ALI YAHIA",
      "photoUrl": "",
      "userId": "17068135540218931681"
     },
     "user_tz": -120
    },
    "id": "QQ57FVU-_uxQ",
    "outputId": "5d6c51b7-613a-4d6a-8945-ad6bc48b8367"
   },
   "outputs": [],
   "source": [
    "from google.colab import drive\n",
    "drive.mount('/content/drive')"
   ]
  },
  {
   "cell_type": "code",
   "execution_count": null,
   "metadata": {
    "colab": {},
    "colab_type": "code",
    "executionInfo": {
     "elapsed": 1295,
     "status": "ok",
     "timestamp": 1598363161100,
     "user": {
      "displayName": "Yassine AIT ALI YAHIA",
      "photoUrl": "",
      "userId": "17068135540218931681"
     },
     "user_tz": -120
    },
    "id": "QlV_aDqs_6ET"
   },
   "outputs": [],
   "source": [
    "WORKING_PLACE = '/content/drive/My Drive/'\n",
    "\n",
    "FEATURES_PATH = '/content/drive/My Drive/bitmaps_dataset.hdf5'\n",
    "LABELS_PATH = '/content/drive/My Drive/labels_dataset.hdf5'"
   ]
  },
  {
   "cell_type": "code",
   "execution_count": null,
   "metadata": {
    "colab": {
     "base_uri": "https://localhost:8080/",
     "height": 134
    },
    "colab_type": "code",
    "executionInfo": {
     "elapsed": 50515,
     "status": "ok",
     "timestamp": 1598363211926,
     "user": {
      "displayName": "Yassine AIT ALI YAHIA",
      "photoUrl": "",
      "userId": "17068135540218931681"
     },
     "user_tz": -120
    },
    "id": "-32U7Oo6BD5n",
    "outputId": "4157bbc2-2adb-4676-9c15-309567d48b9e"
   },
   "outputs": [],
   "source": [
    "# diviser l'ensemble de données en trois sous-ensembles disjoints: \n",
    "# 1. un ensemble d'entrainement  80% des données \n",
    "# 2. un ensemble de validation   10% des données \n",
    "# 3. un ensemble de test         10% des données \n",
    "\n",
    "validation_split = 0.1  \n",
    "test_split = 0.1\n",
    "with h5py.File(FEATURES_PATH, 'r') as pos_file:\n",
    "    with h5py.File(LABELS_PATH, 'r') as labels_file:\n",
    "        positions = pos_file.get(\"dataset\")\n",
    "        labels = labels_file.get(\"dataset\")\n",
    "      \n",
    "        nb_examples = labels.shape[0]\n",
    "        nb_training_examples = int(nb_examples * (1 - (validation_split + test_split)))    \n",
    "        index_validation = int(nb_examples * (1 - (validation_split)))\n",
    "        \n",
    "        print(\"Nombre d'exemples : {}\".format(nb_examples))\n",
    "\n",
    "        # ensemble d'entrainement\n",
    "        x_train = positions[:nb_training_examples]\n",
    "        y_train = labels[:nb_training_examples]\n",
    "        print(\"Nombre d'élements de l'ensemble d'entrainement : \", nb_training_examples)\n",
    "\n",
    "        # ensemble de validation \n",
    "        x_validation = positions[nb_training_examples:index_validation]\n",
    "        y_validation = labels[nb_training_examples:index_validation]\n",
    "        print(\"Nombre d'éléments de l'ensemble de validation :\", (index_validation - nb_training_examples ))\n",
    "\n",
    "        # ensemble de test \n",
    "        x_test = positions[index_validation:]\n",
    "        y_test = labels[index_validation:]\n",
    "        print(\"Nombre d'éléments de l'ensemble de test :\", (nb_examples - index_validation ))\n",
    "\n",
    "        train_set = tf.data.Dataset.from_tensor_slices((x_train, y_train))\n",
    "        validation_set = tf.data.Dataset.from_tensor_slices((x_validation, y_validation))\n",
    "        test_set = tf.data.Dataset.from_tensor_slices((x_test, y_test))\n",
    "        \n",
    "        print(train_set)\n",
    "        print(test_set)\n",
    "        print(validation_set)"
   ]
  },
  {
   "cell_type": "code",
   "execution_count": null,
   "metadata": {
    "colab": {
     "base_uri": "https://localhost:8080/",
     "height": 34
    },
    "colab_type": "code",
    "executionInfo": {
     "elapsed": 582,
     "status": "ok",
     "timestamp": 1598363219896,
     "user": {
      "displayName": "Yassine AIT ALI YAHIA",
      "photoUrl": "",
      "userId": "17068135540218931681"
     },
     "user_tz": -120
    },
    "id": "g8TzfuviDf7V",
    "outputId": "0fd3bf9b-d65d-4da0-d538-142421c949ea"
   },
   "outputs": [],
   "source": [
    "# Batch size\n",
    "BATCH_SIZE = 128\n",
    "\n",
    "BUFFER_SIZE = 100000\n",
    "\n",
    "train_set = train_set.shuffle(BUFFER_SIZE).batch(BATCH_SIZE,  drop_remainder=True)\n",
    "validation_set = validation_set.shuffle(BUFFER_SIZE // 10).batch(BATCH_SIZE,  drop_remainder=True)\n",
    "test_set = test_set.shuffle(BUFFER_SIZE // 10).batch(BATCH_SIZE,  drop_remainder=True)\n",
    "train_set"
   ]
  },
  {
   "cell_type": "code",
   "execution_count": null,
   "metadata": {
    "colab": {},
    "colab_type": "code",
    "executionInfo": {
     "elapsed": 615,
     "status": "ok",
     "timestamp": 1598363221923,
     "user": {
      "displayName": "Yassine AIT ALI YAHIA",
      "photoUrl": "",
      "userId": "17068135540218931681"
     },
     "user_tz": -120
    },
    "id": "Y9lWzIfnEfDP"
   },
   "outputs": [],
   "source": [
    "from tensorflow.keras import layers"
   ]
  },
  {
   "cell_type": "code",
   "execution_count": null,
   "metadata": {
    "colab": {},
    "colab_type": "code",
    "executionInfo": {
     "elapsed": 891,
     "status": "ok",
     "timestamp": 1598363224818,
     "user": {
      "displayName": "Yassine AIT ALI YAHIA",
      "photoUrl": "",
      "userId": "17068135540218931681"
     },
     "user_tz": -120
    },
    "id": "tYSG2dPJEjUF"
   },
   "outputs": [],
   "source": [
    "input_size = 773 # feature representation \n",
    "\n",
    "nb_units_1 = 250\n",
    "nb_units_2 = 80\n",
    "output_size = 1"
   ]
  },
  {
   "cell_type": "code",
   "execution_count": null,
   "metadata": {
    "colab": {},
    "colab_type": "code",
    "executionInfo": {
     "elapsed": 1101,
     "status": "ok",
     "timestamp": 1598363226919,
     "user": {
      "displayName": "Yassine AIT ALI YAHIA",
      "photoUrl": "",
      "userId": "17068135540218931681"
     },
     "user_tz": -120
    },
    "id": "H4lf81Y2FDUc"
   },
   "outputs": [],
   "source": [
    "def define_model():\n",
    "    model = tf.keras.Sequential()\n",
    "\n",
    "    model = tf.keras.Sequential()\n",
    "    model.add(layers.Input(shape = (input_size,)))\n",
    "    model.add(layers.BatchNormalization())\n",
    "\n",
    "    model.add(layers.Dense(nb_units_1, activation = 'relu'))\n",
    "    model.add(layers.Dropout(0.2))\n",
    "\n",
    "    model.add(layers.Dense(nb_units_2, activation = 'relu'))\n",
    "    model.add(layers.Dropout(0.2))\n",
    "\n",
    "    model.add(layers.Dense(output_size, activation = 'sigmoid'))\n",
    "    return model "
   ]
  },
  {
   "cell_type": "code",
   "execution_count": null,
   "metadata": {
    "colab": {
     "base_uri": "https://localhost:8080/",
     "height": 353
    },
    "colab_type": "code",
    "executionInfo": {
     "elapsed": 572,
     "status": "ok",
     "timestamp": 1598363228910,
     "user": {
      "displayName": "Yassine AIT ALI YAHIA",
      "photoUrl": "",
      "userId": "17068135540218931681"
     },
     "user_tz": -120
    },
    "id": "cvaROp_VFLw3",
    "outputId": "b2fdcb4e-6a33-4d94-d1e3-c82d2a328671"
   },
   "outputs": [],
   "source": [
    "optimizer = tf.keras.optimizers.Adam(lr = 0.0001) # l'optimiseur Adam\n",
    "model = define_model() \n",
    "model.compile(optimizer = optimizer, loss = \"binary_crossentropy\", metrics = ['accuracy'])\n",
    "model.summary()"
   ]
  },
  {
   "cell_type": "code",
   "execution_count": null,
   "metadata": {
    "colab": {
     "base_uri": "https://localhost:8080/",
     "height": 722
    },
    "colab_type": "code",
    "executionInfo": {
     "elapsed": 1615051,
     "status": "ok",
     "timestamp": 1598364846480,
     "user": {
      "displayName": "Yassine AIT ALI YAHIA",
      "photoUrl": "",
      "userId": "17068135540218931681"
     },
     "user_tz": -120
    },
    "id": "-L6yXlaxFQUq",
    "outputId": "34187931-ae6c-4824-9548-f038bf84c1e3"
   },
   "outputs": [],
   "source": [
    "EPOCHS = 20\n",
    "history = model.fit(train_set, epochs=EPOCHS,validation_data=validation_set)\n",
    "model.evaluate(test_set)"
   ]
  },
  {
   "cell_type": "code",
   "execution_count": null,
   "metadata": {
    "colab": {
     "base_uri": "https://localhost:8080/",
     "height": 545
    },
    "colab_type": "code",
    "executionInfo": {
     "elapsed": 832,
     "status": "ok",
     "timestamp": 1598364880387,
     "user": {
      "displayName": "Yassine AIT ALI YAHIA",
      "photoUrl": "",
      "userId": "17068135540218931681"
     },
     "user_tz": -120
    },
    "id": "S-69VoqYLaUS",
    "outputId": "707970a5-9831-472f-ed11-50afdedb7588"
   },
   "outputs": [],
   "source": [
    "loss_curve = history.history[\"loss\"]\n",
    "acc_curve = history.history[\"accuracy\"]\n",
    "\n",
    "loss_val_curve = history.history[\"val_loss\"]\n",
    "acc_val_curve = history.history[\"val_accuracy\"]\n",
    "\n",
    "plt.plot(loss_curve, label=\"Train\")\n",
    "plt.plot(loss_val_curve, label=\"Val\")\n",
    "plt.legend(loc='upper left')\n",
    "plt.title(\"Loss\")\n",
    "plt.show()\n",
    "\n",
    "plt.plot(acc_curve, label=\"Train\")\n",
    "plt.plot(acc_val_curve, label=\"Val\")\n",
    "plt.legend(loc='upper left')\n",
    "plt.title(\"Accuracy\")\n",
    "plt.show()"
   ]
  },
  {
   "cell_type": "code",
   "execution_count": null,
   "metadata": {
    "colab": {},
    "colab_type": "code",
    "executionInfo": {
     "elapsed": 1890,
     "status": "ok",
     "timestamp": 1598365040250,
     "user": {
      "displayName": "Yassine AIT ALI YAHIA",
      "photoUrl": "",
      "userId": "17068135540218931681"
     },
     "user_tz": -120
    },
    "id": "i2AxeJYLHn6q"
   },
   "outputs": [],
   "source": [
    "# Get the dictionary containing each metric and the loss for each epoch\n",
    "history_dict = history.history\n",
    "epoch_values = history.epoch\n",
    "# Save it under the form of a json file\n",
    "json.dump(history_dict, open(WORKING_PLACE+\"modele/bitmap_training_history\", 'w'))\n",
    "json.dump(epoch_values, open(WORKING_PLACE+\"modele/bitmap_training_epochs\", 'w'))\n",
    "#model.save(WORKING_PLACE+\"modele/bitmap_model.h5\")"
   ]
  },
  {
   "cell_type": "code",
   "execution_count": null,
   "metadata": {
    "colab": {},
    "colab_type": "code",
    "executionInfo": {
     "elapsed": 635,
     "status": "ok",
     "timestamp": 1598365041729,
     "user": {
      "displayName": "Yassine AIT ALI YAHIA",
      "photoUrl": "",
      "userId": "17068135540218931681"
     },
     "user_tz": -120
    },
    "id": "v-AyxaBUDgIo"
   },
   "outputs": [],
   "source": [
    "SMALL_SIZE = 10\n",
    "MEDIUM_SIZE = 13\n",
    "BIGGER_SIZE = 24\n",
    "\n",
    "plt.rc('font', size=SMALL_SIZE)          # controls default text sizes\n",
    "plt.rc('axes', titlesize=SMALL_SIZE)     # fontsize of the axes title\n",
    "plt.rc('axes', labelsize=MEDIUM_SIZE)    # fontsize of the x and y labels\n",
    "plt.rc('xtick', labelsize=MEDIUM_SIZE)    # fontsize of the tick labels\n",
    "plt.rc('ytick', labelsize=MEDIUM_SIZE)    # fontsize of the tick labels\n",
    "plt.rc('legend', fontsize=SMALL_SIZE)    # legend fontsize"
   ]
  },
  {
   "cell_type": "code",
   "execution_count": null,
   "metadata": {
    "colab": {
     "base_uri": "https://localhost:8080/",
     "height": 394
    },
    "colab_type": "code",
    "executionInfo": {
     "elapsed": 975,
     "status": "ok",
     "timestamp": 1598365043525,
     "user": {
      "displayName": "Yassine AIT ALI YAHIA",
      "photoUrl": "",
      "userId": "17068135540218931681"
     },
     "user_tz": -120
    },
    "id": "g9ekhrZcJ3mV",
    "outputId": "94fccc09-8b29-4ae8-f182-ebabd57b5387"
   },
   "outputs": [],
   "source": [
    "#load histories and epochs \n",
    "history = json.load(open(WORKING_PLACE+\"modele/bitmap_training_history\", 'r'))\n",
    "epochs = json.load(open(WORKING_PLACE+\"modele/bitmap_training_epochs\", 'r'))\n",
    "\n",
    "train_loss = history['loss']\n",
    "plt.figure(figsize=(7, 6))\n",
    "plt.plot(epochs, train_loss, color = 'blue', label = 'format binaire')\n",
    "plt.xlabel('Nombre d\\'itérations')\n",
    "plt.ylabel('Fonction coût')\n",
    "plt.legend()\n",
    "plt.savefig(WORKING_PLACE+\"modele/Fonction cout\")\n",
    "plt.show()\n"
   ]
  },
  {
   "cell_type": "code",
   "execution_count": null,
   "metadata": {
    "colab": {
     "base_uri": "https://localhost:8080/",
     "height": 394
    },
    "colab_type": "code",
    "executionInfo": {
     "elapsed": 896,
     "status": "ok",
     "timestamp": 1598365048108,
     "user": {
      "displayName": "Yassine AIT ALI YAHIA",
      "photoUrl": "",
      "userId": "17068135540218931681"
     },
     "user_tz": -120
    },
    "id": "4WyPeL7uKprz",
    "outputId": "8d88975f-5fa8-4306-ec72-be0374f7bd7c"
   },
   "outputs": [],
   "source": [
    "train_auc = history['auc']\n",
    "plt.figure(figsize=(7, 6))\n",
    "plt.plot(epochs, train_auc, color = 'red', label = 'format binaire')\n",
    "plt.xlabel('Nombre d\\'itérations')\n",
    "plt.ylabel('L\\'aire sous la courbe ROC (AUC)')\n",
    "plt.legend()\n",
    "plt.savefig(WORKING_PLACE+\"modele/Auc\")\n",
    "plt.show()\n"
   ]
  },
  {
   "cell_type": "code",
   "execution_count": null,
   "metadata": {
    "colab": {
     "base_uri": "https://localhost:8080/",
     "height": 395
    },
    "colab_type": "code",
    "executionInfo": {
     "elapsed": 1160,
     "status": "ok",
     "timestamp": 1598365053295,
     "user": {
      "displayName": "Yassine AIT ALI YAHIA",
      "photoUrl": "",
      "userId": "17068135540218931681"
     },
     "user_tz": -120
    },
    "id": "RiGMzxroK-h_",
    "outputId": "6170c1c7-1377-45ee-cd85-0fef73a2be40"
   },
   "outputs": [],
   "source": [
    "train_auccuracy = history['accuracy']\n",
    "plt.figure(figsize=(7, 6))\n",
    "plt.plot(epochs, train_auccuracy, color = 'black', label = 'format binaire')\n",
    "plt.xlabel('Nombre d\\'itérations')\n",
    "plt.ylabel('Justesse')\n",
    "plt.legend()\n",
    "plt.savefig(WORKING_PLACE+\"modele/précision\")\n",
    "plt.show()\n"
   ]
  },
  {
   "cell_type": "code",
   "execution_count": null,
   "metadata": {
    "colab": {},
    "colab_type": "code",
    "executionInfo": {
     "elapsed": 640,
     "status": "ok",
     "timestamp": 1598365057913,
     "user": {
      "displayName": "Yassine AIT ALI YAHIA",
      "photoUrl": "",
      "userId": "17068135540218931681"
     },
     "user_tz": -120
    },
    "id": "gId0H7y8VzVd"
   },
   "outputs": [],
   "source": []
  }
 ],
 "metadata": {
  "accelerator": "GPU",
  "colab": {
   "name": "essai1.ipynb",
   "provenance": []
  },
  "kernelspec": {
   "display_name": "Python 3 (ipykernel)",
   "language": "python",
   "name": "python3"
  },
  "language_info": {
   "codemirror_mode": {
    "name": "ipython",
    "version": 3
   },
   "file_extension": ".py",
   "mimetype": "text/x-python",
   "name": "python",
   "nbconvert_exporter": "python",
   "pygments_lexer": "ipython3",
   "version": "3.8.5"
  }
 },
 "nbformat": 4,
 "nbformat_minor": 1
}
