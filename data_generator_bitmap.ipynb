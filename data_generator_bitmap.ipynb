{
 "cells": [
  {
   "cell_type": "code",
   "execution_count": 2,
   "metadata": {},
   "outputs": [],
   "source": [
    "import os\n",
    "import chess\n",
    "import chess.pgn\n",
    "import chess.engine\n",
    "import numpy as np\n",
    "import time\n",
    "import h5py\n",
    "import sys\n",
    "sys.path.append(\"C:/Users/king pc/Desktop/code pfe/code\")\n",
    "import format_bitmap_plus as fm"
   ]
  },
  {
   "cell_type": "code",
   "execution_count": 3,
   "metadata": {},
   "outputs": [],
   "source": [
    "PGNS_PATH = '../data/Fichier_pgn/'\n",
    "BITMAPS_PATH = '../data/Fichier_pgn/bitmaps.hdf5'\n",
    "LABELS_PATH = '../data/Fichier_pgn/labels.hdf5'"
   ]
  },
  {
   "cell_type": "code",
   "execution_count": 4,
   "metadata": {},
   "outputs": [],
   "source": [
    "MIN_PLYS = 10\n",
    "BITMAP_SIZE = 773"
   ]
  },
  {
   "cell_type": "code",
   "execution_count": 11,
   "metadata": {},
   "outputs": [],
   "source": [
    "def select(game):\n",
    "\n",
    "    try:\n",
    "        white_elo = int(game.headers['WhiteElo'])\n",
    "        black_elo = int(game.headers['BlackElo'])\n",
    "        nb_plys = int(game.headers['PlyCount'])\n",
    "        result = game.headers['Result']\n",
    "\n",
    "\n",
    "        if nb_plys < MIN_PLYS:\n",
    "            return False\n",
    "\n",
    "        if result == '1-0' and white_elo > black_elo:\n",
    "            difference = white_elo - black_elo\n",
    "\n",
    "            if white_elo >= 2500 and difference >= 100 :\n",
    "                return True\n",
    "\n",
    "            elif white_elo < 2500 and white_elo >= 2300 and difference >= 150 :\n",
    "                return True\n",
    "\n",
    "            elif white_elo < 2300 and white_elo >= 2100 and difference >= 200 :\n",
    "                return True\n",
    "\n",
    "            elif white_elo < 2100 and white_elo >= 1900 and difference >= 250 :\n",
    "                return True\n",
    "\n",
    "            elif white_elo < 1900 and difference >= 300 :\n",
    "                return True\n",
    "\n",
    "            else :\n",
    "                return False\n",
    "\n",
    "        elif result == '0-1' and black_elo > white_elo:\n",
    "            difference = black_elo - white_elo\n",
    "\n",
    "            if black_elo >= 2500 and difference >= 100:\n",
    "                return True\n",
    "\n",
    "            elif black_elo < 2500 and black_elo >= 2300 and difference >= 150:\n",
    "                return True\n",
    "\n",
    "            elif black_elo < 2300 and black_elo >= 2100 and difference >= 200:\n",
    "                return True\n",
    "\n",
    "            elif black_elo < 2100 and black_elo >= 1900 and difference >= 250:\n",
    "                return True\n",
    "\n",
    "            elif black_elo < 1900 and difference >= 300:\n",
    "                return True\n",
    "\n",
    "            else:\n",
    "                return False\n",
    "\n",
    "        else:\n",
    "            return False\n",
    "\n",
    "    except:\n",
    "        return False"
   ]
  },
  {
   "cell_type": "code",
   "execution_count": 12,
   "metadata": {},
   "outputs": [],
   "source": [
    "def process_game(game):\n",
    "    bitmap_boards = []\n",
    "    labels = []\n",
    "    node = game\n",
    "    node = node.variation(0)\n",
    "    while True:\n",
    "        board = node.board()\n",
    "\n",
    "        bitmap = fm.get_bitmap_plus(board)\n",
    "        bitmap_boards.append(bitmap)\n",
    "        \n",
    "        if node.is_end():\n",
    "            break\n",
    "        node = node.variation(0)\n",
    "\n",
    "    bitmap_boards = np.vstack(bitmap_boards)\n",
    "\n",
    "    return bitmap_boards"
   ]
  },
  {
   "cell_type": "code",
   "execution_count": 15,
   "metadata": {},
   "outputs": [],
   "source": [
    "def create_datasets():\n",
    "\n",
    "    idx = 0\n",
    "    current_progress = 0\n",
    "    NB_EXAMPLES = 400\n",
    "\n",
    "    with h5py.File(BITMAPS_PATH, 'w') as bitmaps_hdf:\n",
    "        with h5py.File(LABELS_PATH, 'w') as labels_hdf:\n",
    "            bitmaps = bitmaps_hdf.create_dataset(\"dataset\", (NB_EXAMPLES, BITMAP_SIZE), dtype=np.int8)\n",
    "            labels = labels_hdf.create_dataset(\"dataset\", (NB_EXAMPLES,), dtype=np.int8)\n",
    "\n",
    "            for root, dirs, filenames in os.walk(PGNS_PATH):\n",
    "                for f in filenames:\n",
    "                    with open(os.path.join(root, f), 'r') as pgn:\n",
    "                        game = chess.pgn.read_game(pgn)\n",
    "                       \n",
    "                        while(game):                        \n",
    "\n",
    "                            if select(game):\n",
    "\n",
    "                                label = 1 if game.headers['Result'] == '1-0' else 0\n",
    "\n",
    "                                game_bitmaps = process_game(game)\n",
    "\n",
    "                                nb_boards = game_bitmaps.shape[0]\n",
    "                                game_labels = np.array([label] * nb_boards, dtype=np.int8)\n",
    "\n",
    "                                nb_to_add = min(nb_boards, NB_EXAMPLES - idx)\n",
    "\n",
    "                                bitmaps[idx: idx + nb_to_add] = game_bitmaps[:nb_to_add]\n",
    "                                labels[idx: idx + nb_to_add] = game_labels[:nb_to_add]\n",
    "                                idx += nb_to_add\n",
    "                                progress = (100 * idx) // NB_EXAMPLES\n",
    "                                if progress >= current_progress + 5:\n",
    "                                    current_progress = progress\n",
    "                                    print(\"{}% completed\".format(current_progress))\n",
    "\n",
    "                                if idx == NB_EXAMPLES:\n",
    "                                    break\n",
    "\n",
    "                            # read next game\n",
    "                            game = chess.pgn.read_game(pgn)\n",
    "\n"
   ]
  },
  {
   "cell_type": "code",
   "execution_count": 16,
   "metadata": {},
   "outputs": [
    {
     "name": "stdout",
     "output_type": "stream",
     "text": [
      "21% completed\n",
      "30% completed\n",
      "50% completed\n",
      "63% completed\n",
      "73% completed\n",
      "88% completed\n",
      "100% completed\n"
     ]
    }
   ],
   "source": [
    "create_datasets()"
   ]
  },
  {
   "cell_type": "code",
   "execution_count": 18,
   "metadata": {},
   "outputs": [
    {
     "name": "stdout",
     "output_type": "stream",
     "text": [
      "[1 1 1 1 1 1 1 1 1 1 1 1 1 1 1 1 1 1 1 1 1 1 1 1 1 1 1 1 1 1 1 1 1 1 1 1 1\n",
      " 1 1 1 1 1 1 1 1 1 1 1 1 1 1 1 1 1 1 1 1 1 1 1 1 1 1 1 1 1 1 1 1 1 1 1 1 1\n",
      " 1 1 1 1 1 1 1 1 1 1 1 0 0 0 0 0 0 0 0 0 0 0 0 0 0 0 0 0 0 0 0 0 0 0 0 0 0\n",
      " 0 0 0 0 0 0 0 0 0 0 0 0 1 1 1 1 1 1 1 1 1 1 1 1 1 1 1 1 1 1 1 1 1 1 1 1 1\n",
      " 1 1 1 1 1 1 1 1 1 1 1 1 1 1 1 1 1 1 1 1 1 1 1 1 1 1 1 1 1 1 1 1 1 1 1 1 1\n",
      " 1 1 1 1 1 1 1 1 1 1 1 1 1 1 1 1 1 1 1 1 1 1 1 1 1 1 1 1 1 1 1 1 1 1 1 1 1\n",
      " 1 1 1 1 1 1 1 1 1 1 1 1 1 1 1 1 1 1 1 1 1 1 1 1 1 1 1 1 1 1 1 1 1 1 1 1 1\n",
      " 1 1 1 1 1 1 1 1 1 1 1 1 1 1 1 1 1 1 1 1 1 1 1 1 1 1 1 1 1 1 1 1 1 0 0 0 0\n",
      " 0 0 0 0 0 0 0 0 0 0 0 0 0 0 0 0 0 0 0 0 0 0 0 0 0 0 0 0 0 0 0 0 0 0 0 0 0\n",
      " 0 0 0 0 0 0 0 0 0 0 0 0 0 0 0 0 0 0 0 0 0 1 1 1 1 1 1 1 1 1 1 1 1 1 1 1 1\n",
      " 1 1 1 1 1 1 1 1 1 1 1 1 1 1 1 1 1 1 1 1 1 1 1 1 1 1 1 1 1 1]\n"
     ]
    }
   ],
   "source": [
    "with h5py.File(LABELS_PATH, 'r') as labels_hdf:\n",
    "    labels=labels_hdf.get(\"dataset\")\n",
    "    labels_np=np.array(labels)\n",
    "    print(labels_np)"
   ]
  },
  {
   "cell_type": "code",
   "execution_count": 19,
   "metadata": {},
   "outputs": [
    {
     "name": "stdout",
     "output_type": "stream",
     "text": [
      "[[0 0 0 ... 1 1 0]\n",
      " [0 0 0 ... 1 1 1]\n",
      " [0 0 0 ... 1 1 0]\n",
      " ...\n",
      " [0 0 0 ... 0 0 1]\n",
      " [0 0 0 ... 0 0 0]\n",
      " [0 0 0 ... 0 0 1]]\n"
     ]
    }
   ],
   "source": [
    "with h5py.File(BITMAPS_PATH, 'r') as bitmaps_hdf:\n",
    "    bitmaps=bitmaps_hdf.get(\"dataset\")\n",
    "    bitmaps_np=np.array(bitmaps)\n",
    "    print(bitmaps_np)"
   ]
  },
  {
   "cell_type": "code",
   "execution_count": 20,
   "metadata": {},
   "outputs": [
    {
     "data": {
      "text/plain": [
       "(400, 773)"
      ]
     },
     "execution_count": 20,
     "metadata": {},
     "output_type": "execute_result"
    }
   ],
   "source": [
    "bitmaps_np.shape"
   ]
  },
  {
   "cell_type": "code",
   "execution_count": null,
   "metadata": {},
   "outputs": [],
   "source": []
  }
 ],
 "metadata": {
  "kernelspec": {
   "display_name": "Python 3 (ipykernel)",
   "language": "python",
   "name": "python3"
  },
  "language_info": {
   "codemirror_mode": {
    "name": "ipython",
    "version": 3
   },
   "file_extension": ".py",
   "mimetype": "text/x-python",
   "name": "python",
   "nbconvert_exporter": "python",
   "pygments_lexer": "ipython3",
   "version": "3.8.5"
  }
 },
 "nbformat": 4,
 "nbformat_minor": 2
}
